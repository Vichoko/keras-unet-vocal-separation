{
 "cells": [
  {
   "cell_type": "code",
   "execution_count": 1,
   "metadata": {},
   "outputs": [],
   "source": [
    "import numpy as np\n",
    "from librosa.core import istft, load, stft, magphase\n",
    "from librosa.output import write_wav\n",
    "from config import *"
   ]
  },
  {
   "cell_type": "code",
   "execution_count": 2,
   "metadata": {},
   "outputs": [],
   "source": [
    "def load_as_mag(file):\n",
    "    wav, _ = load(file, sr=None)\n",
    "    spectrogram = stft(wav, n_fft=WINDOW_SIZE, hop_length=HOP_LENGTH)\n",
    "    mag, _ = magphase(spectrogram)\n",
    "    return mag.astype(np.float32)\n",
    "\n",
    "npz = np.load('numpy/ccmixter_02.npz')\n",
    "mix_npz_mag = npz['mix']\n",
    "vocal_npz_mag = npz['vocal']\n",
    "inst_npz_mag = npz['inst']"
   ]
  },
  {
   "cell_type": "code",
   "execution_count": 3,
   "metadata": {},
   "outputs": [],
   "source": [
    "mix_wav, _ = load('origin_mix.wav', sr=None)\n",
    "mix_wav_mag, mix_wav_phase = magphase(stft(mix_wav, n_fft=WINDOW_SIZE, hop_length=HOP_LENGTH))\n",
    "\n",
    "vocal_wav, _ = load('origin_vocal.wav', sr=None)\n",
    "vocal_wav_mag, vocal_wav_phase = magphase(stft(vocal_wav, n_fft=WINDOW_SIZE, hop_length=HOP_LENGTH))"
   ]
  },
  {
   "cell_type": "code",
   "execution_count": 4,
   "metadata": {},
   "outputs": [],
   "source": [
    "write_wav('verify_mix.wav', istft(\n",
    "    mix_wav_mag * mix_wav_phase\n",
    "    , win_length=WINDOW_SIZE, hop_length=HOP_LENGTH), SAMPLE_RATE, norm=True)\n",
    "write_wav('verify_vocal.wav', istft(\n",
    "#     mix_wav_mag * vocal_npz_mag * mix_wav_phase\n",
    "    vocal_npz_mag * mix_wav_phase\n",
    "    , win_length=WINDOW_SIZE, hop_length=HOP_LENGTH), SAMPLE_RATE, norm=True)"
   ]
  },
  {
   "cell_type": "code",
   "execution_count": 5,
   "metadata": {},
   "outputs": [
    {
     "data": {
      "text/plain": [
       "(513, 2515)"
      ]
     },
     "execution_count": 5,
     "metadata": {},
     "output_type": "execute_result"
    }
   ],
   "source": [
    "vocal_npz_mag.shape"
   ]
  },
  {
   "cell_type": "code",
   "execution_count": null,
   "metadata": {},
   "outputs": [],
   "source": []
  }
 ],
 "metadata": {
  "kernelspec": {
   "display_name": "Python 3",
   "language": "python",
   "name": "python3"
  },
  "language_info": {
   "codemirror_mode": {
    "name": "ipython",
    "version": 3
   },
   "file_extension": ".py",
   "mimetype": "text/x-python",
   "name": "python",
   "nbconvert_exporter": "python",
   "pygments_lexer": "ipython3",
   "version": "3.6.4"
  }
 },
 "nbformat": 4,
 "nbformat_minor": 2
}
