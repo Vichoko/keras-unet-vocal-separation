{
 "cells": [
  {
   "cell_type": "code",
   "execution_count": 1,
   "metadata": {},
   "outputs": [
    {
     "name": "stderr",
     "output_type": "stream",
     "text": [
      "/Users/jzhang/conda/envs/keras/lib/python3.6/site-packages/h5py/__init__.py:36: FutureWarning: Conversion of the second argument of issubdtype from `float` to `np.floating` is deprecated. In future, it will be treated as `np.float64 == np.dtype(float).type`.\n",
      "  from ._conv import register_converters as _register_converters\n",
      "Using TensorFlow backend.\n"
     ]
    }
   ],
   "source": [
    "import numpy as np\n",
    "from librosa.core import istft, load, stft, magphase\n",
    "from librosa.output import write_wav\n",
    "from config import *\n",
    "from keras.models import load_model"
   ]
  },
  {
   "cell_type": "markdown",
   "metadata": {},
   "source": [
    "## Load test audio and convert to mag & phase\n",
    "\n",
    "1. Load raw wav file\n",
    "2. Apply STFT to get magnitude and phase of audio file\n",
    "3. Take the first 11 seconds for testing."
   ]
  },
  {
   "cell_type": "code",
   "execution_count": 2,
   "metadata": {},
   "outputs": [],
   "source": [
    "mix_wav, _ = load(\"origin_mix.wav\", sr=SAMPLE_RATE)\n",
    "mix_wav_mag, mix_wav_phase = magphase(stft(mix_wav, n_fft=WINDOW_SIZE, hop_length=HOP_LENGTH))\n",
    "\n",
    "START = 0\n",
    "END = START + 128\n",
    "\n",
    "mix_wav_mag=mix_wav_mag[:, START:END]\n",
    "mix_wav_phase=mix_wav_phase[:, START:END]"
   ]
  },
  {
   "cell_type": "markdown",
   "metadata": {},
   "source": [
    "## Load trained UNet model"
   ]
  },
  {
   "cell_type": "code",
   "execution_count": 3,
   "metadata": {},
   "outputs": [],
   "source": [
    "model = load_model('vocal_20.h5')"
   ]
  },
  {
   "cell_type": "markdown",
   "metadata": {},
   "source": [
    "## Predict magnitude for instruments\n",
    "1. Ignore the first row from magnitude of mix sound track.\n",
    "2. Feed the magnitude into UNet.\n",
    "3. Convert model output to target magnitude."
   ]
  },
  {
   "cell_type": "code",
   "execution_count": 4,
   "metadata": {},
   "outputs": [],
   "source": [
    "X=mix_wav_mag[1:].reshape(1, 512, 128, 1)\n",
    "y=model.predict(X, batch_size=32)\n",
    "\n",
    "target_pred_mag = np.vstack((np.zeros((128)), y.reshape(512, 128)))"
   ]
  },
  {
   "cell_type": "markdown",
   "metadata": {},
   "source": [
    "## Write split audio files\n",
    "1. Apply invert STFT to predicted maganitude & original phase.\n",
    "  1. Soft mask might be used before iSTFT.\n",
    "2. Write to audio file.\n",
    "3. Generate audio file of mix track for verification."
   ]
  },
  {
   "cell_type": "code",
   "execution_count": 5,
   "metadata": {},
   "outputs": [],
   "source": [
    "write_wav(f'pred_vocal.wav', istft(\n",
    "    target_pred_mag * mix_wav_phase\n",
    "#     (mix_wav_mag * target_pred_mag) * mix_wav_phase\n",
    "    , win_length=WINDOW_SIZE, hop_length=HOP_LENGTH), SAMPLE_RATE, norm=True)\n",
    "write_wav(f'pred_mix.wav', istft(\n",
    "    mix_wav_mag * mix_wav_phase\n",
    "    , win_length=WINDOW_SIZE, hop_length=HOP_LENGTH), SAMPLE_RATE, norm=True)"
   ]
  }
 ],
 "metadata": {
  "kernelspec": {
   "display_name": "Python 3",
   "language": "python",
   "name": "python3"
  },
  "language_info": {
   "codemirror_mode": {
    "name": "ipython",
    "version": 3
   },
   "file_extension": ".py",
   "mimetype": "text/x-python",
   "name": "python",
   "nbconvert_exporter": "python",
   "pygments_lexer": "ipython3",
   "version": "3.6.4"
  }
 },
 "nbformat": 4,
 "nbformat_minor": 2
}
