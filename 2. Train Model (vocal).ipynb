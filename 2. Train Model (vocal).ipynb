{
 "cells": [
  {
   "cell_type": "code",
   "execution_count": 2,
   "metadata": {},
   "outputs": [],
   "source": [
    "import numpy as np\n",
    "from keras import Input\n",
    "from keras.optimizers import Adam\n",
    "from keras.utils import multi_gpu_model\n",
    "from config import *\n",
    "from model import unet\n",
    "from librosa.util import find_files"
   ]
  },
  {
   "cell_type": "markdown",
   "metadata": {},
   "source": [
    "## Load preprocessed magnitude data\n",
    "Preprocessed data are stored as npz dictionaries in `./numpy`. We will load only the mix track, as well as the target track(inst or vocal) we're interested in."
   ]
  },
  {
   "cell_type": "code",
   "execution_count": 3,
   "metadata": {},
   "outputs": [],
   "source": [
    "def load_npz(target=None, first=None):\n",
    "    npz_files = find_files('numpy', ext=\"npz\")[:first]\n",
    "    for file in npz_files:\n",
    "        npz = np.load(file)\n",
    "        assert(npz[\"mix\"].shape == npz[target].shape)\n",
    "        yield npz['mix'], npz[target]\n",
    "mix_mag, target_mag = zip(*load_npz(target='vocal', first=-1))"
   ]
  },
  {
   "cell_type": "markdown",
   "metadata": {},
   "source": [
    "## Compile UNet model"
   ]
  },
  {
   "cell_type": "code",
   "execution_count": 4,
   "metadata": {},
   "outputs": [],
   "source": [
    "model = unet()\n",
    "raw_model = model\n",
    "model.compile(optimizer=Adam(1e-4), loss='mean_absolute_error')"
   ]
  },
  {
   "cell_type": "markdown",
   "metadata": {},
   "source": [
    "## Sample from audio data and train model\n",
    "Small patches are extracted from the audio data for training.\n",
    "\n",
    "In below training strategy, different inputs are generated in each epoch."
   ]
  },
  {
   "cell_type": "code",
   "execution_count": 6,
   "metadata": {},
   "outputs": [
    {
     "name": "stdout",
     "output_type": "stream",
     "text": [
      "Train on 11453 samples, validate on 603 samples\n",
      "Epoch 1/1\n",
      "11453/11453 [==============================] - 128s 11ms/step - loss: 0.0118 - val_loss: 0.0090\n",
      "Train on 11453 samples, validate on 603 samples\n",
      "Epoch 1/1\n",
      "11453/11453 [==============================] - 129s 11ms/step - loss: 0.0066 - val_loss: 0.0055\n",
      "Train on 11453 samples, validate on 603 samples\n",
      "Epoch 1/1\n",
      "11453/11453 [==============================] - 130s 11ms/step - loss: 0.0053 - val_loss: 0.0050\n",
      "Train on 11453 samples, validate on 603 samples\n",
      "Epoch 1/1\n",
      "11453/11453 [==============================] - 131s 11ms/step - loss: 0.0048 - val_loss: 0.0050\n",
      "Train on 11453 samples, validate on 603 samples\n",
      "Epoch 1/1\n",
      "11453/11453 [==============================] - 131s 11ms/step - loss: 0.0047 - val_loss: 0.0044\n",
      "Train on 11453 samples, validate on 603 samples\n",
      "Epoch 1/1\n",
      "11453/11453 [==============================] - 131s 11ms/step - loss: 0.0044 - val_loss: 0.0042\n",
      "Train on 11453 samples, validate on 603 samples\n",
      "Epoch 1/1\n",
      "11453/11453 [==============================] - 131s 11ms/step - loss: 0.0043 - val_loss: 0.0044\n",
      "Train on 11453 samples, validate on 603 samples\n",
      "Epoch 1/1\n",
      "11453/11453 [==============================] - 131s 11ms/step - loss: 0.0042 - val_loss: 0.0043\n",
      "Train on 11453 samples, validate on 603 samples\n",
      "Epoch 1/1\n",
      "11453/11453 [==============================] - 131s 11ms/step - loss: 0.0041 - val_loss: 0.0042\n",
      "Train on 11453 samples, validate on 603 samples\n",
      "Epoch 1/1\n",
      "11453/11453 [==============================] - 131s 11ms/step - loss: 0.0040 - val_loss: 0.0045\n",
      "Train on 11453 samples, validate on 603 samples\n",
      "Epoch 1/1\n",
      "11453/11453 [==============================] - 131s 11ms/step - loss: 0.0040 - val_loss: 0.0040\n",
      "Train on 11453 samples, validate on 603 samples\n",
      "Epoch 1/1\n",
      "11453/11453 [==============================] - 131s 11ms/step - loss: 0.0039 - val_loss: 0.0043\n",
      "Train on 11453 samples, validate on 603 samples\n",
      "Epoch 1/1\n",
      "11453/11453 [==============================] - 131s 11ms/step - loss: 0.0039 - val_loss: 0.0043\n",
      "Train on 11453 samples, validate on 603 samples\n",
      "Epoch 1/1\n",
      "11453/11453 [==============================] - 132s 11ms/step - loss: 0.0038 - val_loss: 0.0042\n",
      "Train on 11453 samples, validate on 603 samples\n",
      "Epoch 1/1\n",
      "11453/11453 [==============================] - 132s 11ms/step - loss: 0.0038 - val_loss: 0.0038\n",
      "Train on 11453 samples, validate on 603 samples\n",
      "Epoch 1/1\n",
      "11453/11453 [==============================] - 131s 11ms/step - loss: 0.0037 - val_loss: 0.0040\n",
      "Train on 11453 samples, validate on 603 samples\n",
      "Epoch 1/1\n",
      "11453/11453 [==============================] - 131s 11ms/step - loss: 0.0037 - val_loss: 0.0040\n",
      "Train on 11453 samples, validate on 603 samples\n",
      "Epoch 1/1\n",
      "11453/11453 [==============================] - 131s 11ms/step - loss: 0.0037 - val_loss: 0.0041\n",
      "Train on 11453 samples, validate on 603 samples\n",
      "Epoch 1/1\n",
      "11453/11453 [==============================] - 131s 11ms/step - loss: 0.0035 - val_loss: 0.0038\n",
      "Train on 11453 samples, validate on 603 samples\n",
      "Epoch 1/1\n",
      "11453/11453 [==============================] - 131s 11ms/step - loss: 0.0036 - val_loss: 0.0039\n"
     ]
    }
   ],
   "source": [
    "EPOCH = 20\n",
    "BATCH = 16\n",
    "SAMPLING_STRIDE = 10\n",
    "\n",
    "def sampling(mix_mag, target_mag):\n",
    "    X, y = [], []\n",
    "    for mix, target in zip(mix_mag, target_mag):\n",
    "        starts = np.random.randint(0, mix.shape[1] - PATCH_SIZE, (mix.shape[1] - PATCH_SIZE) // SAMPLING_STRIDE)\n",
    "        for start in starts:\n",
    "            end = start + PATCH_SIZE\n",
    "            X.append(mix[1:, start:end, np.newaxis])\n",
    "            y.append(target[1:, start:end, np.newaxis])\n",
    "    return np.asarray(X, dtype=np.float32), np.asarray(y, dtype=np.float32)\n",
    "\n",
    "for e in range(EPOCH):\n",
    "    X, y = sampling(mix_mag, target_mag)\n",
    "    model.fit(X, y, batch_size=BATCH, verbose=1, validation_split=0.05)\n",
    "    model.save('vocal_{:0>2d}.h5'.format(e+1), overwrite=True)"
   ]
  }
 ],
 "metadata": {
  "kernelspec": {
   "display_name": "Python 3",
   "language": "python",
   "name": "python3"
  },
  "language_info": {
   "codemirror_mode": {
    "name": "ipython",
    "version": 3
   },
   "file_extension": ".py",
   "mimetype": "text/x-python",
   "name": "python",
   "nbconvert_exporter": "python",
   "pygments_lexer": "ipython3",
   "version": "3.6.4"
  }
 },
 "nbformat": 4,
 "nbformat_minor": 2
}
